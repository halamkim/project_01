{
 "cells": [
  {
   "cell_type": "code",
   "execution_count": 2,
   "metadata": {},
   "outputs": [],
   "source": [
    "# import necessary libraries\n",
    "import pandas as pd\n",
    "import questionary\n",
    "from pathlib import Path\n",
    "import fire \n",
    "%matplotlib inline\n"
   ]
  },
  {
   "cell_type": "code",
   "execution_count": 6,
   "metadata": {},
   "outputs": [],
   "source": [
    "# open csv files using read_csv function\n",
    "AUDUSD = pd.read_csv(Path('../Resources/AUDUSD-2000-2020-15m.csv'))\n",
    "EURCHF = pd.read_csv(Path('../Resources/EURCHF-2000-2020-15m.csv'))\n",
    "EURJPY = pd.read_csv(Path('../Resources/EURJPY-2000-2020-15m.csv'))\n",
    "EURUSD = pd.read_csv(Path('../Resources/EURUSD-2000-2020-15m.csv'))\n",
    "USDCAD = pd.read_csv(Path('../Resources/USDCAD-2000-2020-15m.csv'))\n",
    "USDCHF = pd.read_csv(Path('../Resources/USDCHF-2000-2020-15m.csv'))\n",
    "USDJPY = pd.read_csv(Path('../Resources/USDJPY-2000-2020-15m.csv'))"
   ]
  },
  {
   "cell_type": "code",
   "execution_count": null,
   "metadata": {},
   "outputs": [],
   "source": [
    "\n"
   ]
  }
 ],
 "metadata": {
  "kernelspec": {
   "display_name": "Python (dev)",
   "language": "python",
   "name": "dev"
  },
  "language_info": {
   "codemirror_mode": {
    "name": "ipython",
    "version": 3
   },
   "file_extension": ".py",
   "mimetype": "text/x-python",
   "name": "python",
   "nbconvert_exporter": "python",
   "pygments_lexer": "ipython3",
   "version": "3.7.13"
  },
  "orig_nbformat": 4,
  "vscode": {
   "interpreter": {
    "hash": "f058be28e7054fe242c94cefe063171d637106cc159df0a03c0a2584999260a4"
   }
  }
 },
 "nbformat": 4,
 "nbformat_minor": 2
}
