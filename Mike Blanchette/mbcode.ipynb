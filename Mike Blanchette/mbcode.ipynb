{
 "cells": [
  {
   "cell_type": "code",
   "execution_count": 117,
   "id": "734a950c-8381-4d70-8635-46d2ef5f24ff",
   "metadata": {},
   "outputs": [],
   "source": [
    "# import necessary libraries\n",
    "import pandas as pd\n",
    "import questionary\n",
    "from pathlib import Path\n",
    "import fire \n",
    "import numpy as np\n",
    "import hvplot.pandas\n",
    "%matplotlib inline"
   ]
  },
  {
   "cell_type": "code",
   "execution_count": 118,
   "id": "6238a043-b2c2-4d4c-ba34-5e1e8dab4742",
   "metadata": {},
   "outputs": [],
   "source": [
    "# open csv files using read_csv function\n",
    "AUDUSD_df = pd.read_csv(\n",
    "            Path('../Resources/AUDUSD-2000-2020-15m.csv'),\n",
    "            index_col = 'DATE_TIME', \n",
    "            parse_dates=True, \n",
    "            infer_datetime_format=True)\n",
    "EURJPY_df = pd.read_csv(\n",
    "            Path('../Resources/EURJPY-2000-2020-15m.csv'), \n",
    "            index_col = 'DATE_TIME', \n",
    "            parse_dates=True, \n",
    "            infer_datetime_format=True)\n",
    "EURUSD_df = pd.read_csv(\n",
    "            Path('../Resources/EURUSD-2000-2020-15m.csv'), \n",
    "            index_col = 'DATE_TIME', \n",
    "            parse_dates=True, \n",
    "            infer_datetime_format=True)\n",
    "USDCHF_df = pd.read_csv(\n",
    "            Path('../Resources/USDCHF-2000-2020-15m.csv'), \n",
    "            index_col = 'DATE_TIME', \n",
    "            parse_dates=True, \n",
    "            infer_datetime_format=True)"
   ]
  },
  {
   "cell_type": "code",
   "execution_count": 119,
   "id": "0bcdb3b9-8b1d-4071-9090-032531db8d16",
   "metadata": {},
   "outputs": [],
   "source": [
    "AUDUSD_df.drop(['HIGH', 'LOW', 'OPEN'], axis=1, inplace=True)\n",
    "EURJPY_df.drop(['HIGH', 'LOW', 'OPEN'], axis=1, inplace=True)\n",
    "EURUSD_df.drop(['HIGH', 'LOW', 'OPEN'], axis=1, inplace=True)\n",
    "USDCHF_df.drop(['HIGH', 'LOW', 'OPEN'], axis=1, inplace=True)\n"
   ]
  },
  {
   "cell_type": "code",
   "execution_count": 120,
   "id": "b871d787-103e-4738-ba2a-b7538a6b6898",
   "metadata": {},
   "outputs": [],
   "source": [
    "#Toggles for the SMA windows. Data is in 15 minutes intervals and 24 hours a day\n",
    "fast_sma = 10\n",
    "slow_sma = 20\n",
    "\n",
    "AUDUSD_df['fast sma'] = AUDUSD_df['CLOSE'].rolling(window=fast_sma).mean()\n",
    "AUDUSD_df['slow sma'] = AUDUSD_df['CLOSE'].rolling(window=slow_sma).mean()\n",
    "\n",
    "EURJPY_df['fast sma'] = EURJPY_df['CLOSE'].rolling(window=fast_sma).mean()\n",
    "EURJPY_df['slow sma'] = EURJPY_df['CLOSE'].rolling(window=slow_sma).mean()\n",
    "\n",
    "EURUSD_df['fast sma'] = EURUSD_df['CLOSE'].rolling(window=fast_sma).mean()\n",
    "EURUSD_df['slow sma'] = EURUSD_df['CLOSE'].rolling(window=slow_sma).mean()\n",
    "\n",
    "USDCHF_df['fast sma'] = USDCHF_df['CLOSE'].rolling(window=fast_sma).mean()\n",
    "USDCHF_df['slow sma'] = USDCHF_df['CLOSE'].rolling(window=slow_sma).mean()"
   ]
  },
  {
   "cell_type": "code",
   "execution_count": 121,
   "id": "847fd776-1239-42c7-9339-b84fbff11ef0",
   "metadata": {},
   "outputs": [],
   "source": [
    "#adds percent change and cumulative return column for each currency pair\n",
    "AUDUSD_df['pct_change'] = AUDUSD_df['CLOSE'].pct_change()\n",
    "AUDUSD_df.dropna(inplace=True)\n",
    "AUDUSD_df['cum returns'] = (1 + AUDUSD_df['pct_change']).cumprod()\n",
    "\n",
    "EURJPY_df['pct_change'] = EURJPY_df['CLOSE'].pct_change()\n",
    "EURJPY_df.dropna(inplace=True)\n",
    "EURJPY_df['cum returns'] = (1 + EURJPY_df['pct_change']).cumprod()\n",
    "\n",
    "EURUSD_df['pct_change'] = EURUSD_df['CLOSE'].pct_change()\n",
    "EURUSD_df.dropna(inplace=True)\n",
    "EURUSD_df['cum returns'] = (1 + EURUSD_df['pct_change']).cumprod()\n",
    "\n",
    "USDCHF_df['pct_change'] = USDCHF_df['CLOSE'].pct_change()\n",
    "USDCHF_df.dropna(inplace=True)\n",
    "USDCHF_df['cum returns'] = (1 + USDCHF_df['pct_change']).cumprod()"
   ]
  },
  {
   "cell_type": "code",
   "execution_count": 122,
   "id": "a5a63834-1467-4b88-8de0-34b6b35632b9",
   "metadata": {},
   "outputs": [],
   "source": [
    "#Adds long/short column. When 'fast sma' is above 'slow sma' strategy is long and vice versa. A 1 indicates the strategy is long and a 0 is short.\n",
    "#Adds 'strat return' column. If startegy is long, strat return will equal the pct_change column.\n",
    "#If strategy is short, strat return will be the pct_change multiplied by -1.\n",
    "\n",
    "AUDUSD_df['long/short'] = np.where(AUDUSD_df['fast sma'] > AUDUSD_df['slow sma'],1,0)\n",
    "AUDUSD_df['strat return'] = np.where(AUDUSD_df['long/short'] == 1,AUDUSD_df['pct_change'],AUDUSD_df['pct_change'] * -1)\n",
    "AUDUSD_df.dropna(inplace=True)\n",
    "\n",
    "#calculates cumulative returns for the strategy based off of the 'strat return' column\n",
    "\n",
    "AUDUSD_df['cum strat returns'] = (1 + AUDUSD_df['strat return']).cumprod()\n",
    "\n",
    "#repeat steps above for remaining currency pairs\n",
    "\n",
    "EURJPY_df['long/short'] = np.where(EURJPY_df['fast sma'] > EURJPY_df['slow sma'],1,0)\n",
    "EURJPY_df['strat return'] = np.where(EURJPY_df['long/short'] == 1,EURJPY_df['pct_change'],EURJPY_df['pct_change'] * -1)\n",
    "EURJPY_df.dropna(inplace=True)\n",
    "EURJPY_df['cum strat returns'] = (1 + EURJPY_df['strat return']).cumprod()\n",
    "\n",
    "EURUSD_df['long/short'] = np.where(EURUSD_df['fast sma'] > EURUSD_df['slow sma'],1,0)\n",
    "EURUSD_df['strat return'] = np.where(EURUSD_df['long/short'] == 1,EURUSD_df['pct_change'],EURUSD_df['pct_change'] * -1)\n",
    "EURUSD_df.dropna(inplace=True)\n",
    "EURUSD_df['cum strat returns'] = (1 + EURUSD_df['strat return']).cumprod()\n",
    "\n",
    "USDCHF_df['long/short'] = np.where(USDCHF_df['fast sma'] > USDCHF_df['slow sma'],1,0)\n",
    "USDCHF_df['strat return'] = np.where(USDCHF_df['long/short'] == 1,USDCHF_df['pct_change'],USDCHF_df['pct_change'] * -1)\n",
    "USDCHF_df.dropna(inplace=True)\n",
    "USDCHF_df['cum strat returns'] = (1 + USDCHF_df['strat return']).cumprod()"
   ]
  },
  {
   "cell_type": "code",
   "execution_count": null,
   "id": "201d7215-aae3-4b89-9f9e-019fcdeccc6c",
   "metadata": {},
   "outputs": [],
   "source": [
    "#plot cumulative returns\n",
    "combined_cumulative_returns = pd.concat([\n",
    "    AUDUSD_df['cum strat returns'],\n",
    "    EURJPY_df['cum strat returns'],\n",
    "    EURUSD_df['cum strat returns'],\n",
    "    USDCHF_df['cum strat returns'],\n",
    "    ], axis=1, keys=['AUDUSD cumulative', 'EURJPY cumulative', 'EURUSD cumulative', 'USDCHF cumulative'])\n",
    "combined_cumulative_returns.dropna(inplace=True)\n",
    "combined_cumulative_returns.hvplot(title=f\"Cumulative {fast_sma} and {slow_sma} SMA strategy returns\",\n",
    "                                  xlabel=\"Year\").opts(\n",
    "                                  yformatter='%.0f')"
   ]
  },
  {
   "cell_type": "code",
   "execution_count": null,
   "id": "5ea5d1c3-c016-43da-abdc-c8e2d546a708",
   "metadata": {},
   "outputs": [],
   "source": [
    "#Calculate calendar year returns for the strategy by taking the last and first price of the year in the cumulative returns columns.\n",
    "\n",
    "start2012 = combined_cumulative_returns.loc['2012-01-02 00:00:00']\n",
    "end2012 = combined_cumulative_returns.loc['2012-12-31 18:45:00']\n",
    "annual2012 = (end2012 / start2012) - 1\n",
    "\n",
    "start2013 = combined_cumulative_returns.loc['2013-01-01 23:00:00']\n",
    "end2013 = combined_cumulative_returns.loc['2013-12-31 18:45:00']\n",
    "annual2013 = (end2013 / start2013) - 1\n",
    "\n",
    "start2014 = combined_cumulative_returns.loc['2014-01-01 23:00:00']\n",
    "end2014 = combined_cumulative_returns.loc['2014-12-31 19:45:00']\n",
    "annual2014 = (end2014 / start2014) - 1\n",
    "\n",
    "start2015 = combined_cumulative_returns.loc['2015-01-19 00:00:00']\n",
    "end2015 = combined_cumulative_returns.loc['2015-12-31 20:00:00']\n",
    "annual2015 = (end2015 / start2015) - 1\n",
    "\n",
    "start2016 = combined_cumulative_returns.loc['2016-01-04 00:00:00']\n",
    "end2016 = combined_cumulative_returns.loc['2016-12-30 18:45:00']\n",
    "annual2016 = (end2016 / start2016) - 1\n",
    "\n",
    "start2017 = combined_cumulative_returns.loc['2017-01-02 09:00:00']\n",
    "end2017 = combined_cumulative_returns.loc['2017-12-29 20:45:00']\n",
    "annual2017 = (end2017 / start2017) - 1\n",
    "\n",
    "start2018 = combined_cumulative_returns.loc['2018-01-02 09:00:00']\n",
    "end2018 = combined_cumulative_returns.loc['2018-12-31 20:45:00']\n",
    "annual2018 = (end2018 / start2018) - 1\n",
    "\n",
    "start2019 = combined_cumulative_returns.loc['2019-01-02 06:00:00']\n",
    "end2019 = combined_cumulative_returns.loc['2019-12-31 20:45:00']\n",
    "annual2019 = (end2019 / start2019) - 1"
   ]
  },
  {
   "cell_type": "code",
   "execution_count": null,
   "id": "90e5b8d0-d0bf-462b-ae71-7f10b279321c",
   "metadata": {},
   "outputs": [],
   "source": [
    "# Add annual returns to a dataframe\n",
    "\n",
    "index_labels = ['2012','2013','2014','2015','2016','2017','2018','2019']\n",
    "column_labels = ['AUDUSD annual return','EURJPY annual return','EURUSD annual return','USDCHF annual return']\n",
    "annual_returns = pd.DataFrame([annual2012,annual2013,annual2014,annual2015,annual2016,annual2017,annual2018,annual2019],\n",
    "                        index=index_labels)\n",
    "annual_returns.columns = column_labels\n",
    "annual_returns"
   ]
  },
  {
   "cell_type": "code",
   "execution_count": null,
   "id": "3599bc5c-4092-470d-9f30-316259992e61",
   "metadata": {},
   "outputs": [],
   "source": []
  }
 ],
 "metadata": {
  "kernelspec": {
   "display_name": "Python 3 (ipykernel)",
   "language": "python",
   "name": "python3"
  },
  "language_info": {
   "codemirror_mode": {
    "name": "ipython",
    "version": 3
   },
   "file_extension": ".py",
   "mimetype": "text/x-python",
   "name": "python",
   "nbconvert_exporter": "python",
   "pygments_lexer": "ipython3",
   "version": "3.7.15"
  }
 },
 "nbformat": 4,
 "nbformat_minor": 5
}
